{
 "cells": [
  {
   "cell_type": "markdown",
   "id": "a7518c96-7cf3-4daa-a672-c564c4bdd1af",
   "metadata": {},
   "source": [
    "## Let's have a look at characters, ordinals and binary"
   ]
  },
  {
   "cell_type": "code",
   "execution_count": null,
   "id": "42deb192-e97d-4347-8cfb-3f86ce02ac02",
   "metadata": {},
   "outputs": [],
   "source": [
    "help(bin)  # Binary"
   ]
  },
  {
   "cell_type": "code",
   "execution_count": null,
   "id": "bb52b5c6-895e-4cd4-923f-6e5a8ee48571",
   "metadata": {},
   "outputs": [],
   "source": [
    "help(ord)  # Ordinal"
   ]
  },
  {
   "cell_type": "code",
   "execution_count": null,
   "id": "1d60bbed-b9f6-48ee-93e9-f0c445a645d0",
   "metadata": {},
   "outputs": [],
   "source": [
    "[ord(x) for x in 'Hello']"
   ]
  },
  {
   "cell_type": "code",
   "execution_count": null,
   "id": "6d17617f-c72f-44ac-ad24-99af0754c86a",
   "metadata": {},
   "outputs": [],
   "source": [
    "chr(72), chr(233)"
   ]
  },
  {
   "cell_type": "code",
   "execution_count": null,
   "id": "6e84d34e-f038-4f07-a4f2-a283f9771f6d",
   "metadata": {},
   "outputs": [],
   "source": [
    "f\"{233:08b}\""
   ]
  },
  {
   "cell_type": "code",
   "execution_count": null,
   "id": "d8712b07-7a0f-4d1c-ac01-5fa3b8cb653b",
   "metadata": {},
   "outputs": [],
   "source": [
    "format(ord('H'), '08b')"
   ]
  },
  {
   "cell_type": "code",
   "execution_count": null,
   "id": "66617929-9244-45e6-a042-fe4e9b6d4b6d",
   "metadata": {},
   "outputs": [],
   "source": [
    "character = 'H'\n",
    "ordinal = ord(character)\n",
    "binary = f\"{ordinal:08b}\"\n",
    "print(f\"Let's represent the character {character} with ordinal {ordinal} in binary {binary}\\n\")\n",
    "\n",
    "ordinal_number = 0\n",
    "\n",
    "for bit in zip(binary, [128,64,32,16,8,4,2,1]):\n",
    "    bit_is_one = bool(int(bit[0]))\n",
    "    print(bit, bit_is_one)\n",
    "    if bit_is_one:\n",
    "        ordinal_number += bit[1]\n",
    "\n",
    "ordinal_number"
   ]
  },
  {
   "cell_type": "code",
   "execution_count": null,
   "id": "f5e7afd7-467a-4c57-a155-e46095da9c83",
   "metadata": {},
   "outputs": [],
   "source": [
    "# Function to convert binary to ASCII value\n",
    "def binary_to_string(bits):\n",
    "    return ''.join([chr(int(i, 2)) for i in bits])\n",
    "   \n",
    "# Driver Code\n",
    " \n",
    "# This is the binary equivalent of string \"GFG\"\n",
    "bin_values = ['01001000', '01100101', '01101100', '01101100', '01101111', '00100000',\n",
    "              '01010111', '01101111', '01110010', '01101100', '01100100', '00100001'] \n",
    " \n",
    "# calling the function\n",
    "# and storing the result in variable 's'\n",
    "s = binary_to_string(bin_values)\n",
    " \n",
    "# Printing the result\n",
    "print(f\"The string created from the binary parts: {s}\")"
   ]
  },
  {
   "cell_type": "code",
   "execution_count": null,
   "id": "fbad5878-6aff-49f9-ae32-a695e98e1f4e",
   "metadata": {},
   "outputs": [],
   "source": [
    "# Function to convert string to binary\n",
    "def string_to_binary(input_string):\n",
    "    return ' '.join(format(ord(char), '08b') for char in input_string)\n",
    "\n",
    "# Example usage\n",
    "my_string = \"Hello World!\"\n",
    "binary_representation = string_to_binary(my_string)\n",
    "\n",
    "print(f\"String: {my_string}\")\n",
    "print(f\"Binary: {binary_representation}\")"
   ]
  },
  {
   "cell_type": "markdown",
   "id": "e9923bea-8227-4ca6-9ead-4e2de85d2f51",
   "metadata": {},
   "source": [
    "## Let's have a look at Base64"
   ]
  },
  {
   "cell_type": "code",
   "execution_count": null,
   "id": "72fe6645-d8d9-47b3-8809-ba852f901b0f",
   "metadata": {},
   "outputs": [],
   "source": [
    "from base64 import *\n",
    "\n",
    "sample_string = \"Hello World!\"\n",
    "sample_string_bytes = sample_string.encode(\"ascii\")\n",
    "\n",
    "base64_bytes = base64.b64encode(sample_string_bytes)\n",
    "base64_string = base64_bytes.decode(\"ascii\")\n",
    "\n",
    "print(f\"Encoded string: {base64_string}\")"
   ]
  },
  {
   "cell_type": "code",
   "execution_count": null,
   "id": "f7dbfb5d-ef87-4c9b-8dde-1e673fb8e1e7",
   "metadata": {},
   "outputs": [],
   "source": [
    "b16encode(b'H')"
   ]
  },
  {
   "cell_type": "code",
   "execution_count": null,
   "id": "47df58f7-48aa-4365-ba28-9595b7d76aa7",
   "metadata": {},
   "outputs": [],
   "source": [
    "chr(int('48', 16))"
   ]
  },
  {
   "cell_type": "code",
   "execution_count": null,
   "id": "a054e612-8d38-4664-a418-5eea7dd053ed",
   "metadata": {},
   "outputs": [],
   "source": [
    "import base64\n",
    "\n",
    "sample_string = \"We are the superheroes of SSC-ICT!\"\n",
    "sample_string_bytes = sample_string.encode(\"ascii\")\n",
    "\n",
    "base64_bytes = base64.b64encode(sample_string_bytes)\n",
    "base64_string = base64_bytes.decode(\"ascii\")\n",
    "\n",
    "print(f\"Encoded string: {base64_string}\")"
   ]
  },
  {
   "cell_type": "code",
   "execution_count": null,
   "id": "8c58aaba-a6c8-4a57-90f7-cc7ea886b6fe",
   "metadata": {},
   "outputs": [],
   "source": [
    "import base64\n",
    "\n",
    "\n",
    "base64_string = \"V2UgYXJlIHRoZSBzdXBlcmhlcm9lcyBvZiBTU0MtSUNUIQ==\"\n",
    "base64_bytes = base64_string.encode(\"ascii\")\n",
    "\n",
    "sample_string_bytes = base64.b64decode(base64_bytes)\n",
    "sample_string = sample_string_bytes.decode(\"ascii\")\n",
    "\n",
    "print(f\"Decoded string: {sample_string}\")"
   ]
  },
  {
   "cell_type": "markdown",
   "id": "7a06ca9f-a0a0-43f1-a4ff-477ce0e95d70",
   "metadata": {},
   "source": [
    "## Putting it all together\n",
    "### Let's encode 'Hoi'"
   ]
  },
  {
   "cell_type": "code",
   "execution_count": null,
   "id": "afc003f3-bf9f-4d1f-83c0-40ac5dd03eec",
   "metadata": {},
   "outputs": [],
   "source": [
    "base64.b64encode(b'Hoi')"
   ]
  },
  {
   "cell_type": "code",
   "execution_count": null,
   "id": "000c349f-e9a5-489d-a753-e4d3a974fa77",
   "metadata": {},
   "outputs": [],
   "source": [
    "for digit in 'Hoi':\n",
    "    print(ord(digit))"
   ]
  },
  {
   "cell_type": "code",
   "execution_count": null,
   "id": "e1e71862-8511-4222-8dfb-0a6e261bffc5",
   "metadata": {},
   "outputs": [],
   "source": [
    "for digit in 'Hoi':\n",
    "    ordinal = ord(digit)\n",
    "    print(f\"{ordinal:08b}\")"
   ]
  },
  {
   "cell_type": "code",
   "execution_count": null,
   "id": "dfbbc492-1032-48ec-a9f1-c9c1924ce394",
   "metadata": {},
   "outputs": [],
   "source": [
    "import base64\n",
    "\n",
    "t = \"SG9p\"\n",
    "t = t.encode(\"ascii\")\n",
    "\n",
    "decoded = base64.decodebytes(t)\n",
    "\n",
    "print(decoded)\n",
    "\n",
    "print(\"\".join([\"{:08b}\".format(x) for x in decoded]))"
   ]
  },
  {
   "cell_type": "code",
   "execution_count": null,
   "id": "c3b9aa3c-8b30-42b9-89bb-a64f7874eeeb",
   "metadata": {},
   "outputs": [],
   "source": [
    "full_binary_string = ''\n",
    "\n",
    "for digit in 'Hoi':\n",
    "    ordinal = ord(digit)\n",
    "    full_binary_string += f\"{ordinal:08b}\"\n",
    "\n",
    "full_binary_string"
   ]
  },
  {
   "cell_type": "code",
   "execution_count": null,
   "id": "5d727128-ca1a-4939-8bf9-b80853aaa289",
   "metadata": {},
   "outputs": [],
   "source": [
    "chunks = []\n",
    "\n",
    "for i in range(0, len(full_binary_string), 6):\n",
    "    chunks.append(full_binary_string[i:i+6])\n",
    "\n",
    "print(chunks)"
   ]
  },
  {
   "cell_type": "code",
   "execution_count": null,
   "id": "bb358c45-db5f-43f0-bed7-ca17e610e875",
   "metadata": {},
   "outputs": [],
   "source": [
    "import string\n",
    "\n",
    "alphabet = string.ascii_uppercase + string.ascii_lowercase + string.digits + '+/'\n",
    "alphabet"
   ]
  },
  {
   "cell_type": "code",
   "execution_count": null,
   "id": "3e398d6c-f71f-4038-a122-ff81fb2bb2e7",
   "metadata": {},
   "outputs": [],
   "source": [
    "encoded_string = ''\n",
    "\n",
    "for c in chunks:\n",
    "    i = int(c, 2)\n",
    "    print(f\"{c} is represented by {alphabet[i]} on position {i}\")\n",
    "    encoded_string += f\"{alphabet[i]}\"\n",
    "\n",
    "print(f\"\\nThis is the encoded string {encoded_string}\")"
   ]
  }
 ],
 "metadata": {
  "kernelspec": {
   "display_name": "Python 3 (ipykernel)",
   "language": "python",
   "name": "python3"
  },
  "language_info": {
   "codemirror_mode": {
    "name": "ipython",
    "version": 3
   },
   "file_extension": ".py",
   "mimetype": "text/x-python",
   "name": "python",
   "nbconvert_exporter": "python",
   "pygments_lexer": "ipython3",
   "version": "3.8.20"
  }
 },
 "nbformat": 4,
 "nbformat_minor": 5
}
