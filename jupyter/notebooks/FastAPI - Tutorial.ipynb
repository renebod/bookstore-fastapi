{
 "cells": [
  {
   "cell_type": "markdown",
   "id": "ccff4fb4",
   "metadata": {},
   "source": [
    "# Bookstore API"
   ]
  },
  {
   "cell_type": "code",
   "execution_count": 1,
   "id": "c6cacc33",
   "metadata": {},
   "outputs": [
    {
     "data": {
      "text/plain": [
       "['9bd168eb7bc9fe33613761db240009d0',\n",
       " '9bd168eb7bc9fe33613761db24000e81',\n",
       " '9bd168eb7bc9fe33613761db24001c11',\n",
       " '9bd168eb7bc9fe33613761db24002996',\n",
       " '9bd168eb7bc9fe33613761db24003055',\n",
       " '9bd168eb7bc9fe33613761db24003ae2',\n",
       " '9bd168eb7bc9fe33613761db240045f1',\n",
       " '9bd168eb7bc9fe33613761db24004cc1',\n",
       " '9bd168eb7bc9fe33613761db240058b1']"
      ]
     },
     "execution_count": 1,
     "metadata": {},
     "output_type": "execute_result"
    }
   ],
   "source": [
    "import requests\n",
    "import json\n",
    "\n",
    "requests.get('http://app:8000/authors?expanded=false').json()"
   ]
  },
  {
   "cell_type": "code",
   "execution_count": 2,
   "id": "4b3b4668",
   "metadata": {},
   "outputs": [],
   "source": [
    "# response = requests.get('http://app:8000/authors?expanded=true').json()\n",
    "\n",
    "# for obj in response:\n",
    "#     print(json.dumps(obj, indent=4, sort_keys=True))"
   ]
  },
  {
   "cell_type": "markdown",
   "id": "b2a58d14",
   "metadata": {},
   "source": [
    "## Create new author"
   ]
  },
  {
   "cell_type": "code",
   "execution_count": 3,
   "id": "e52c0754",
   "metadata": {},
   "outputs": [
    {
     "data": {
      "text/plain": [
       "{'_id': '9bd168eb7bc9fe33613761db2400cd9a',\n",
       " '_rev': '1-88494913739681a81f49199a64a4ff9c',\n",
       " 'name': 'Stephen Edwin King',\n",
       " 'date_created': '2025-02-02-15:52:51'}"
      ]
     },
     "execution_count": 3,
     "metadata": {},
     "output_type": "execute_result"
    }
   ],
   "source": [
    "payload = {'name': 'Stephen Edwin King'}\n",
    "\n",
    "requests.post('http://app:8000/authors', json=payload).json()"
   ]
  },
  {
   "cell_type": "markdown",
   "id": "d33f4a7f",
   "metadata": {},
   "source": [
    "## Look for author in two ways"
   ]
  },
  {
   "cell_type": "code",
   "execution_count": 4,
   "id": "226fd326",
   "metadata": {},
   "outputs": [
    {
     "data": {
      "text/plain": [
       "[{'_id': '9bd168eb7bc9fe33613761db2400cd9a',\n",
       "  '_rev': '1-88494913739681a81f49199a64a4ff9c',\n",
       "  'name': 'Stephen Edwin King',\n",
       "  'date_created': '2025-02-02-15:52:51'}]"
      ]
     },
     "execution_count": 4,
     "metadata": {},
     "output_type": "execute_result"
    }
   ],
   "source": [
    "requests.get(f\"http://app:8000/authors?q={payload}\").json()"
   ]
  },
  {
   "cell_type": "code",
   "execution_count": 5,
   "id": "e68c3c0f",
   "metadata": {},
   "outputs": [
    {
     "data": {
      "text/plain": [
       "[{'_id': '9bd168eb7bc9fe33613761db2400cd9a',\n",
       "  '_rev': '1-88494913739681a81f49199a64a4ff9c',\n",
       "  'name': 'Stephen Edwin King',\n",
       "  'date_created': '2025-02-02-15:52:51'}]"
      ]
     },
     "execution_count": 5,
     "metadata": {},
     "output_type": "execute_result"
    }
   ],
   "source": [
    "requests.get('http://app:8000/authors?name=Stephen Edwin King').json()"
   ]
  },
  {
   "cell_type": "markdown",
   "id": "193bbda4",
   "metadata": {},
   "source": [
    "## Update author"
   ]
  },
  {
   "cell_type": "code",
   "execution_count": 6,
   "id": "d3df720a",
   "metadata": {},
   "outputs": [
    {
     "data": {
      "text/plain": [
       "{'_id': '9bd168eb7bc9fe33613761db2400cd9a',\n",
       " '_rev': '2-1f796c12b74a1337fa8ef90bc913606c',\n",
       " 'name': 'Stephen King',\n",
       " 'date_created': '2025-02-02-15:52:51',\n",
       " 'date_updated': '2025-02-02-15:52:56'}"
      ]
     },
     "execution_count": 6,
     "metadata": {},
     "output_type": "execute_result"
    }
   ],
   "source": [
    "id = requests.get('http://app:8000/authors?name=Stephen Edwin King').json()[0]['_id']\n",
    "\n",
    "url = f\"http://app:8000/authors/{id}\"\n",
    "\n",
    "payload = {'name': \"Stephen King\"}\n",
    "\n",
    "requests.put(url, json=payload).json()"
   ]
  }
 ],
 "metadata": {
  "kernelspec": {
   "display_name": "Python 3 (ipykernel)",
   "language": "python",
   "name": "python3"
  },
  "language_info": {
   "codemirror_mode": {
    "name": "ipython",
    "version": 3
   },
   "file_extension": ".py",
   "mimetype": "text/x-python",
   "name": "python",
   "nbconvert_exporter": "python",
   "pygments_lexer": "ipython3",
   "version": "3.8.20"
  }
 },
 "nbformat": 4,
 "nbformat_minor": 5
}
