{
 "cells": [
  {
   "cell_type": "markdown",
   "id": "ccff4fb4",
   "metadata": {},
   "source": [
    "# Bookstore API"
   ]
  },
  {
   "cell_type": "code",
   "execution_count": 1,
   "id": "c6cacc33",
   "metadata": {},
   "outputs": [
    {
     "data": {
      "text/plain": [
       "['64e5a2aa10effd1a549184b7a5000483',\n",
       " '64e5a2aa10effd1a549184b7a50009fd',\n",
       " '64e5a2aa10effd1a549184b7a5000f9d',\n",
       " '64e5a2aa10effd1a549184b7a500172a',\n",
       " '64e5a2aa10effd1a549184b7a5002618',\n",
       " '64e5a2aa10effd1a549184b7a50030f4',\n",
       " '64e5a2aa10effd1a549184b7a5003ceb',\n",
       " '64e5a2aa10effd1a549184b7a5004abc',\n",
       " '64e5a2aa10effd1a549184b7a5004fc4']"
      ]
     },
     "execution_count": 1,
     "metadata": {},
     "output_type": "execute_result"
    }
   ],
   "source": [
    "import requests\n",
    "import json\n",
    "\n",
    "requests.get('http://app:8000/authors?expanded=false').json()"
   ]
  },
  {
   "cell_type": "code",
   "execution_count": 2,
   "id": "4b3b4668",
   "metadata": {},
   "outputs": [],
   "source": [
    "# response = requests.get('http://app:8000/authors?expanded=true').json()\n",
    "\n",
    "# for obj in response:\n",
    "#     print(json.dumps(obj, indent=4, sort_keys=True))"
   ]
  },
  {
   "cell_type": "markdown",
   "id": "b2a58d14",
   "metadata": {},
   "source": [
    "## Create new author"
   ]
  },
  {
   "cell_type": "code",
   "execution_count": 3,
   "id": "e52c0754",
   "metadata": {},
   "outputs": [
    {
     "data": {
      "text/plain": [
       "{'_id': '64e5a2aa10effd1a549184b7a500a05c',\n",
       " '_rev': '1-a2669eb7360608a7ec5a1d1159ef8869',\n",
       " 'name': 'Stephen Edwin King',\n",
       " 'date_created': '2023-03-19-20:12:52'}"
      ]
     },
     "execution_count": 3,
     "metadata": {},
     "output_type": "execute_result"
    }
   ],
   "source": [
    "payload = {'name': 'Stephen Edwin King'}\n",
    "\n",
    "requests.post('http://app:8000/authors', json=payload).json()"
   ]
  },
  {
   "cell_type": "markdown",
   "id": "d33f4a7f",
   "metadata": {},
   "source": [
    "## Look for author in two ways"
   ]
  },
  {
   "cell_type": "code",
   "execution_count": 17,
   "id": "226fd326",
   "metadata": {},
   "outputs": [
    {
     "data": {
      "text/plain": [
       "[{'_id': '64e5a2aa10effd1a549184b7a500a05c',\n",
       "  '_rev': '2-8d8c4a611162f94b70dd8691ee5fb73d',\n",
       "  'name': 'Stephen King',\n",
       "  'date_created': '2023-03-19-20:12:52',\n",
       "  'date_updated': '2023-03-19-20:17:04'}]"
      ]
     },
     "execution_count": 17,
     "metadata": {},
     "output_type": "execute_result"
    }
   ],
   "source": [
    "requests.get(f\"http://app:8000/authors?q={payload}\").json()"
   ]
  },
  {
   "cell_type": "code",
   "execution_count": 18,
   "id": "e68c3c0f",
   "metadata": {},
   "outputs": [
    {
     "data": {
      "text/plain": [
       "[]"
      ]
     },
     "execution_count": 18,
     "metadata": {},
     "output_type": "execute_result"
    }
   ],
   "source": [
    "requests.get('http://app:8000/authors?name=Stephen Edwin King').json()"
   ]
  },
  {
   "cell_type": "markdown",
   "id": "193bbda4",
   "metadata": {},
   "source": [
    "## Update author"
   ]
  },
  {
   "cell_type": "code",
   "execution_count": 16,
   "id": "d3df720a",
   "metadata": {},
   "outputs": [
    {
     "ename": "IndexError",
     "evalue": "list index out of range",
     "output_type": "error",
     "traceback": [
      "\u001b[0;31m---------------------------------------------------------------------------\u001b[0m",
      "\u001b[0;31mIndexError\u001b[0m                                Traceback (most recent call last)",
      "Cell \u001b[0;32mIn[16], line 1\u001b[0m\n\u001b[0;32m----> 1\u001b[0m \u001b[38;5;28mid\u001b[39m \u001b[38;5;241m=\u001b[39m \u001b[43mrequests\u001b[49m\u001b[38;5;241;43m.\u001b[39;49m\u001b[43mget\u001b[49m\u001b[43m(\u001b[49m\u001b[38;5;124;43m'\u001b[39;49m\u001b[38;5;124;43mhttp://app:8000/authors?name=Stephen Edwin King\u001b[39;49m\u001b[38;5;124;43m'\u001b[39;49m\u001b[43m)\u001b[49m\u001b[38;5;241;43m.\u001b[39;49m\u001b[43mjson\u001b[49m\u001b[43m(\u001b[49m\u001b[43m)\u001b[49m\u001b[43m[\u001b[49m\u001b[38;5;241;43m0\u001b[39;49m\u001b[43m]\u001b[49m[\u001b[38;5;124m'\u001b[39m\u001b[38;5;124m_id\u001b[39m\u001b[38;5;124m'\u001b[39m]\n\u001b[1;32m      3\u001b[0m url \u001b[38;5;241m=\u001b[39m \u001b[38;5;124mf\u001b[39m\u001b[38;5;124m\"\u001b[39m\u001b[38;5;124mhttp://app:8000/authors/\u001b[39m\u001b[38;5;132;01m{\u001b[39;00m\u001b[38;5;28mid\u001b[39m\u001b[38;5;132;01m}\u001b[39;00m\u001b[38;5;124m\"\u001b[39m\n\u001b[1;32m      5\u001b[0m payload \u001b[38;5;241m=\u001b[39m {\u001b[38;5;124m'\u001b[39m\u001b[38;5;124mname\u001b[39m\u001b[38;5;124m'\u001b[39m: \u001b[38;5;124m\"\u001b[39m\u001b[38;5;124mStephen King\u001b[39m\u001b[38;5;124m\"\u001b[39m}\n",
      "\u001b[0;31mIndexError\u001b[0m: list index out of range"
     ]
    }
   ],
   "source": [
    "id = requests.get('http://app:8000/authors?name=Stephen Edwin King').json()[0]['_id']\n",
    "\n",
    "url = f\"http://app:8000/authors/{id}\"\n",
    "\n",
    "payload = {'name': \"Stephen King\"}\n",
    "\n",
    "requests.put(url, json=payload).json()"
   ]
  },
  {
   "cell_type": "code",
   "execution_count": null,
   "id": "5fdd8224",
   "metadata": {},
   "outputs": [],
   "source": [
    "payload = {'name': 'Stephen King'}\n",
    "id = requests.get('http://app:8000/authors?name=Stephen Edwin King').json()[0]['_id']\n",
    "\n",
    "url = f\"http://app:8000/authors/{id}\"\n",
    "\n",
    "payload = {'name': \"Stephen King\"}\n",
    "\n",
    "requests.put(url, json=payload).json()"
   ]
  }
 ],
 "metadata": {
  "kernelspec": {
   "display_name": "Python 3 (ipykernel)",
   "language": "python",
   "name": "python3"
  },
  "language_info": {
   "codemirror_mode": {
    "name": "ipython",
    "version": 3
   },
   "file_extension": ".py",
   "mimetype": "text/x-python",
   "name": "python",
   "nbconvert_exporter": "python",
   "pygments_lexer": "ipython3",
   "version": "3.8.16"
  }
 },
 "nbformat": 4,
 "nbformat_minor": 5
}
