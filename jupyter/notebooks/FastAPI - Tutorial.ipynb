{
 "cells": [
  {
   "cell_type": "markdown",
   "id": "ccff4fb4",
   "metadata": {},
   "source": [
    "# Bookstore API"
   ]
  },
  {
   "cell_type": "code",
   "execution_count": null,
   "id": "c6cacc33",
   "metadata": {},
   "outputs": [],
   "source": [
    "import requests\n",
    "import json\n",
    "\n",
    "requests.get('http://app:8000/authors?expanded=false').json()"
   ]
  },
  {
   "cell_type": "code",
   "execution_count": null,
   "id": "4b3b4668",
   "metadata": {},
   "outputs": [],
   "source": [
    "# response = requests.get('http://app:8000/authors?expanded=true').json()\n",
    "\n",
    "# for obj in response:\n",
    "#     print(json.dumps(obj, indent=4, sort_keys=True))"
   ]
  },
  {
   "cell_type": "markdown",
   "id": "b2a58d14",
   "metadata": {},
   "source": [
    "## Create new author"
   ]
  },
  {
   "cell_type": "code",
   "execution_count": null,
   "id": "e52c0754",
   "metadata": {},
   "outputs": [],
   "source": [
    "payload = {'name': 'Stephen Edwin King'}\n",
    "\n",
    "requests.post('http://app:8000/authors', json=payload).json()"
   ]
  },
  {
   "cell_type": "markdown",
   "id": "d33f4a7f",
   "metadata": {},
   "source": [
    "## Look for author in two ways"
   ]
  },
  {
   "cell_type": "code",
   "execution_count": null,
   "id": "226fd326",
   "metadata": {},
   "outputs": [],
   "source": [
    "requests.get(f\"http://app:8000/authors?q={payload}\").json()"
   ]
  },
  {
   "cell_type": "code",
   "execution_count": null,
   "id": "e68c3c0f",
   "metadata": {},
   "outputs": [],
   "source": [
    "requests.get('http://app:8000/authors?name=Stephen Edwin King').json()"
   ]
  },
  {
   "cell_type": "markdown",
   "id": "193bbda4",
   "metadata": {},
   "source": [
    "## Update author"
   ]
  },
  {
   "cell_type": "code",
   "execution_count": null,
   "id": "d3df720a",
   "metadata": {},
   "outputs": [],
   "source": [
    "id = requests.get('http://app:8000/authors?name=Stephen Edwin King').json()[0]['_id']\n",
    "\n",
    "url = f\"http://app:8000/authors/{id}\"\n",
    "\n",
    "payload = {'name': \"Stephen King\"}\n",
    "\n",
    "requests.put(url, json=payload).json()"
   ]
  }
 ],
 "metadata": {
  "kernelspec": {
   "display_name": "Python 3 (ipykernel)",
   "language": "python",
   "name": "python3"
  },
  "language_info": {
   "codemirror_mode": {
    "name": "ipython",
    "version": 3
   },
   "file_extension": ".py",
   "mimetype": "text/x-python",
   "name": "python",
   "nbconvert_exporter": "python",
   "pygments_lexer": "ipython3",
   "version": "3.8.16"
  }
 },
 "nbformat": 4,
 "nbformat_minor": 5
}
